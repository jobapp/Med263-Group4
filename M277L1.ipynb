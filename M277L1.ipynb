{
  "nbformat": 4,
  "nbformat_minor": 0,
  "metadata": {
    "colab": {
      "provenance": [],
      "collapsed_sections": [],
      "authorship_tag": "ABX9TyOCJDAqj8ROB02Vk3vQy7Vc",
      "include_colab_link": true
    },
    "kernelspec": {
      "name": "python3",
      "display_name": "Python 3"
    },
    "language_info": {
      "name": "python"
    }
  },
  "cells": [
    {
      "cell_type": "markdown",
      "metadata": {
        "id": "view-in-github",
        "colab_type": "text"
      },
      "source": [
        "<a href=\"https://colab.research.google.com/github/jobapp/Med263-Group4/blob/main/M277L1.ipynb\" target=\"_parent\"><img src=\"https://colab.research.google.com/assets/colab-badge.svg\" alt=\"Open In Colab\"/></a>"
      ]
    },
    {
      "cell_type": "code",
      "execution_count": 14,
      "metadata": {
        "id": "YEiJCQNO8-hY"
      },
      "outputs": [],
      "source": [
        "import re\n"
      ]
    },
    {
      "cell_type": "markdown",
      "source": [
        "## **Objectives**\n",
        "1. Identifies the history of present illness (HPI) section for the 10 notes in the file and counts the number of sections.\n",
        "\n",
        "2. A sentence “splitter” that will return the sentences in a given HPI section.\n",
        "\n",
        "3. A function that redacts all numbers from a given HPI section.\n",
        "\n",
        "Please write the following functions:\n",
        "\n",
        "\n"
      ],
      "metadata": {
        "id": "HBmdK7eN97Ov"
      }
    },
    {
      "cell_type": "markdown",
      "source": [
        "**find_hpi_sections(fname)** —— takes a filename as a parameter and detects the HPI section (hint: use the two strings “HPI:” and “Allergies:” to detect the beginning and end of the HPI sections. Use the “starts with” metacharacter )."
      ],
      "metadata": {
        "id": "sbgG4Lbk_BpY"
      }
    },
    {
      "cell_type": "code",
      "source": [
        "def find_hpi_sections(fname):\n",
        "  f = open(fname, 'r').read()\n",
        "  t = ''.join(f.splitlines())\n",
        "  HPI = re.findall(r'HPI:(.*?)Allergies:', t)\n",
        "  return(HPI)\n",
        "\n",
        "  "
      ],
      "metadata": {
        "id": "cbIjWvZ39wt1"
      },
      "execution_count": 15,
      "outputs": []
    },
    {
      "cell_type": "code",
      "source": [
        "fhs = find_hpi_sections('/content/med277Lab1.txt')\n",
        "\n",
        "fhs[0]"
      ],
      "metadata": {
        "colab": {
          "base_uri": "https://localhost:8080/",
          "height": 128
        },
        "id": "LGzv4VdCE1YQ",
        "outputId": "06c89563-2e99-41be-8b51-cf556831538e"
      },
      "execution_count": 16,
      "outputs": [
        {
          "output_type": "execute_result",
          "data": {
            "text/plain": [
              "'   24 yo F with h/o idiopathic chronic urticaria and angioedema requiring   intubation during previous admission, asthma, and seasonal allergies   who presents with tongue swelling X 6 hrs. She took her epipen at home   without much relief in her symptoms. Denies associated SOB, difficulty   swallowing, wheezing. She is able to control her secretions without   difficulty but has noticed that her voice is more sluggish and hoarser   than usual. The pt feels that her symptoms as not as severe as they   were on her prior admission when she required intubation for airway   management.   .   In the ED, vitals stable, O2 sat 100% RA. She was given solumedrol 125   mg IV, benadryl 50 mg IV, and famotidine 20 mg IV without much   subjective improvement in her symptoms. She was admitted to the [**Hospital Unit Name 44**]   overnight for airway monitoring.   Patient admitted from: [**Hospital1 54**] ER   History obtained from [**Hospital 85**] Medical records   '"
            ],
            "application/vnd.google.colaboratory.intrinsic+json": {
              "type": "string"
            }
          },
          "metadata": {},
          "execution_count": 16
        }
      ]
    },
    {
      "cell_type": "markdown",
      "source": [
        "**find_sentences(input_text)** -- identifies the sentences in a section of text\n",
        "\n",
        "(hint: use the regular expression function re.split() and a pattern for a period at the end of a sentence)\n"
      ],
      "metadata": {
        "id": "tMc1XHxF_Qgh"
      }
    },
    {
      "cell_type": "code",
      "source": [
        "def find_sentences(input_text):\n",
        "  return(re.split(r'\\.',input_text))\n",
        "  "
      ],
      "metadata": {
        "id": "w5HbI-8H_UVP"
      },
      "execution_count": 17,
      "outputs": []
    },
    {
      "cell_type": "code",
      "source": [
        "tst = 'NLP. is super. fun.'\n",
        "find_sentences(tst)"
      ],
      "metadata": {
        "colab": {
          "base_uri": "https://localhost:8080/"
        },
        "id": "672j9bXGL2ut",
        "outputId": "fbc13454-c9db-40f7-aba7-19ef0c49571c"
      },
      "execution_count": 22,
      "outputs": [
        {
          "output_type": "execute_result",
          "data": {
            "text/plain": [
              "['NLP', ' is super', ' fun', '']"
            ]
          },
          "metadata": {},
          "execution_count": 22
        }
      ]
    },
    {
      "cell_type": "markdown",
      "source": [
        "**redact_numbers(input_text)** -- uses reg expressions to replace numbers in the input_text with the phrase [num]."
      ],
      "metadata": {
        "id": "26821aJ9_Ur9"
      }
    },
    {
      "cell_type": "code",
      "source": [
        "def redact_numbers(input_text):\n",
        "  return(re.sub('\\d',r'[num]',input_text))"
      ],
      "metadata": {
        "id": "a7ai_iuv_Y9x"
      },
      "execution_count": 20,
      "outputs": []
    },
    {
      "cell_type": "code",
      "source": [
        "nbr = 'eve1ry nu3mber'\n",
        "redact_numbers(nbr)"
      ],
      "metadata": {
        "colab": {
          "base_uri": "https://localhost:8080/",
          "height": 36
        },
        "id": "TmCweyYKJGg5",
        "outputId": "fdc45ae3-6ba2-4f5d-b1b2-d6144fa94897"
      },
      "execution_count": 21,
      "outputs": [
        {
          "output_type": "execute_result",
          "data": {
            "text/plain": [
              "'eve[num]ry nu[num]mber'"
            ],
            "application/vnd.google.colaboratory.intrinsic+json": {
              "type": "string"
            }
          },
          "metadata": {},
          "execution_count": 21
        }
      ]
    }
  ]
}